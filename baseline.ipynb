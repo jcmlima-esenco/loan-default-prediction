{
 "cells": [
  {
   "cell_type": "markdown",
   "metadata": {},
   "source": [
    "## Baseline\n",
    "\n",
    "Como baseline do projeto utilizei a rede neural simples, que é comumente utilizada no ensino de classificação\n",
    "\n",
    "http://archive.ics.uci.edu/ml/datasets/Iris"
   ]
  },
  {
   "cell_type": "code",
   "execution_count": 1,
   "metadata": {},
   "outputs": [
    {
     "name": "stderr",
     "output_type": "stream",
     "text": [
      "Using TensorFlow backend.\n"
     ]
    }
   ],
   "source": [
    "import pandas\n",
    "from keras.models import Sequential\n",
    "from keras.layers import Dense\n",
    "from keras.wrappers.scikit_learn import KerasClassifier\n",
    "from keras.utils import np_utils\n",
    "from sklearn.model_selection import cross_val_score\n",
    "from sklearn.model_selection import KFold\n",
    "from sklearn.preprocessing import LabelEncoder\n",
    "from sklearn.pipeline import Pipeline"
   ]
  },
  {
   "cell_type": "markdown",
   "metadata": {},
   "source": [
    "### Leitura e conversão dos dados"
   ]
  },
  {
   "cell_type": "code",
   "execution_count": 5,
   "metadata": {},
   "outputs": [],
   "source": [
    "# load dataset\n",
    "dataframe = pandas.read_csv(\"data/train_v2.csv\", header=1)\n",
    "dataframe = dataframe.apply(pandas.to_numeric, errors='coerce')\n",
    "dataset = dataframe.values\n",
    "X = dataset[:,1:770].astype(float)\n",
    "Y = dataset[:,770]"
   ]
  },
  {
   "cell_type": "markdown",
   "metadata": {},
   "source": [
    "## Geração de variáveis de classificação\n",
    "\n",
    "A variável de saída, \"loss\",  pode conter valores inteiros entre 0 e 100;\n",
    "\n",
    "Uma maneira de se modelar o problema é considerar cada possibilidade (0,1,2...100) como uma classe\n",
    "\n",
    "Ao modelar problemas de classificação de várias classes usando redes neurais, é uma boa prática remodelar o atributo de saída de um vetor que contém valores para cada valor de classe para ser uma matriz com um booleano para cada valor de classe e se uma determinada instância possui ou não esse valor. valor de classe ou não.\n",
    "\n",
    "Isso é chamado de codificação quente ou criação de variáveis fictícias a partir de uma variável categórica.\n",
    "\n",
    "Por exemplo: \n",
    "    "
   ]
  },
  {
   "cell_type": "code",
   "execution_count": 21,
   "metadata": {},
   "outputs": [
    {
     "data": {
      "text/plain": [
       "(105470, 89)"
      ]
     },
     "execution_count": 21,
     "metadata": {},
     "output_type": "execute_result"
    }
   ],
   "source": [
    "# encode class values as integers\n",
    "encoder = LabelEncoder()\n",
    "encoder.fit(Y)\n",
    "encoded_Y = encoder.transform(Y)\n",
    "# convert integers to dummy variables (i.e. one hot encoded)\n",
    "dummy_y = np_utils.to_categorical(encoded_Y)\n",
    "\n",
    "dummy_y.shape"
   ]
  },
  {
   "cell_type": "markdown",
   "metadata": {},
   "source": [
    "No caso, foi gerado uma matriz de 105470 linhas com 89 colunas.\n",
    "Cada uma das 89 colunas corresponde a um dos 100 valores.\n",
    "Poderiam haver entre 1 e 100 colunas, porém a amostra utilizada, apenas 89 valores foram encontrados."
   ]
  },
  {
   "cell_type": "markdown",
   "metadata": {},
   "source": [
    "## Definição do modelo\n",
    "\n",
    "A biblioteca Keras fornece classes que para permitem o uso de modelos de rede neural desenvolvidos com no scikit-learn.\n",
    "\n",
    "Há uma classe KerasClassifier que pode ser usada como estimador no scikit-learn, o tipo de modelo básico na biblioteca. \n",
    "O KerasClassifier leva o nome de uma função como argumento. \n",
    "Esta função irá retornar o modelo de rede neural construído, pronto para o treinamento.\n",
    "\n",
    "Abaixo está uma função que criará uma rede neural *que servirá de baseline para outros modelos* para o problema de classificação. \n",
    "Ele cria uma rede totalmente conectada simples com uma camada oculta que contém 50 neurônios.\n",
    "\n",
    "A camada oculta usa uma função de ativação do *relu*, que é uma boa prática. \n",
    "Como usamos uma codificação one-hot para nosso conjunto de dados, a camada de saída deve criar 89 valores de saída, um para cada classe. \n",
    "O valor de saída com o maior valor será considerado como a classe prevista pelo modelo.\n",
    "\n",
    "A topologia de rede dessa rede neural simples de uma camada pode ser resumida como:\n",
    "\n",
    "768 etradas -> 50 nós ocultos -> 89 saídas\n",
    "\n",
    "Observe que usamos uma função de ativação \"softmax\" na camada de saída. \n",
    "Isso foi usado para garantir que os valores de saída estejam na faixa de 0 e 1\n",
    "\n",
    "Por fim, a rede usa o algoritmo de otimização de descida de gradiente Adam com uma função de perda logarítmica, chamada de \"categorical_crossentropy\" em Keras.\n"
   ]
  },
  {
   "cell_type": "code",
   "execution_count": 23,
   "metadata": {},
   "outputs": [],
   "source": [
    "# define baseline model\n",
    "def baseline_model():\n",
    "\tmodel = Sequential()\n",
    "\tmodel.add(Dense(50, input_dim=769, activation='relu'))\n",
    "\tmodel.add(Dense(89, activation='softmax'))\n",
    "\tmodel.compile(loss='categorical_crossentropy', optimizer='adam', metrics=['accuracy'])\n",
    "\treturn model"
   ]
  },
  {
   "cell_type": "markdown",
   "metadata": {},
   "source": [
    "## Avaliação do modelo com validação cruzada do k-Fold\n",
    "\n",
    "Agora podemos avaliar o modelo com os dados de treinamento.\n",
    "\n",
    "Usei o scikit-learn para avaliar o modelos, usando a validação cruzada k-fold.\n",
    "\n",
    "Primeiro, podemos definir o procedimento de avaliação do modelo. \n",
    "Definimos o número 10 épocas e embaralhamos os dados antes de particioná-los.\n",
    "Defini o batch_size em 500;"
   ]
  },
  {
   "cell_type": "code",
   "execution_count": 25,
   "metadata": {},
   "outputs": [],
   "source": [
    "estimator = KerasClassifier(build_fn=baseline_model, epochs=10, batch_size=500, verbose=1)\n",
    "kfold = KFold(n_splits=5, shuffle=True)"
   ]
  },
  {
   "cell_type": "markdown",
   "metadata": {},
   "source": [
    "Agora podemos avaliar nosso modelo (usado o estimador) no conjunto de dados (X e dummy_y) usando um procedimento de validação cruzada de 10 épocas (kfold).\n",
    "\n",
    "A avaliação do modelo leva algum tempo, dada a quantidade de dados utilizada para treinar, o número de épocas (10) e a quantidade de vezes que será realizado (5)\n"
   ]
  },
  {
   "cell_type": "code",
   "execution_count": 26,
   "metadata": {},
   "outputs": [
    {
     "name": "stdout",
     "output_type": "stream",
     "text": [
      "Epoch 1/10\n",
      "84376/84376 [==============================] - 5s 54us/step - loss: nan - accuracy: 0.9063\n",
      "Epoch 2/10\n",
      "84376/84376 [==============================] - 4s 46us/step - loss: nan - accuracy: 0.9071\n",
      "Epoch 3/10\n",
      "84376/84376 [==============================] - 4s 46us/step - loss: nan - accuracy: 0.9071\n",
      "Epoch 4/10\n",
      "84376/84376 [==============================] - 4s 46us/step - loss: nan - accuracy: 0.9071\n",
      "Epoch 5/10\n",
      "84376/84376 [==============================] - 4s 47us/step - loss: nan - accuracy: 0.9071\n",
      "Epoch 6/10\n",
      "84376/84376 [==============================] - 4s 46us/step - loss: nan - accuracy: 0.9071\n",
      "Epoch 7/10\n",
      "84376/84376 [==============================] - 4s 46us/step - loss: nan - accuracy: 0.9071\n",
      "Epoch 8/10\n",
      "84376/84376 [==============================] - 4s 47us/step - loss: nan - accuracy: 0.9071\n",
      "Epoch 9/10\n",
      "84376/84376 [==============================] - 4s 45us/step - loss: nan - accuracy: 0.9071\n",
      "Epoch 10/10\n",
      "84376/84376 [==============================] - 4s 48us/step - loss: nan - accuracy: 0.9071\n",
      "21094/21094 [==============================] - 1s 34us/step\n",
      "Epoch 1/10\n",
      "84376/84376 [==============================] - 5s 55us/step - loss: nan - accuracy: 0.9061\n",
      "Epoch 2/10\n",
      "84376/84376 [==============================] - 4s 46us/step - loss: nan - accuracy: 0.9070\n",
      "Epoch 3/10\n",
      "84376/84376 [==============================] - 4s 45us/step - loss: nan - accuracy: 0.9070\n",
      "Epoch 4/10\n",
      "84376/84376 [==============================] - 4s 47us/step - loss: nan - accuracy: 0.9070\n",
      "Epoch 5/10\n",
      "84376/84376 [==============================] - 4s 47us/step - loss: nan - accuracy: 0.9070\n",
      "Epoch 6/10\n",
      "84376/84376 [==============================] - 4s 46us/step - loss: nan - accuracy: 0.9070\n",
      "Epoch 7/10\n",
      "84376/84376 [==============================] - 4s 46us/step - loss: nan - accuracy: 0.9070\n",
      "Epoch 8/10\n",
      "84376/84376 [==============================] - 4s 47us/step - loss: nan - accuracy: 0.9070\n",
      "Epoch 9/10\n",
      "84376/84376 [==============================] - 4s 47us/step - loss: nan - accuracy: 0.9070\n",
      "Epoch 10/10\n",
      "84376/84376 [==============================] - 4s 47us/step - loss: nan - accuracy: 0.9070\n",
      "21094/21094 [==============================] - 1s 34us/step\n",
      "Epoch 1/10\n",
      "84376/84376 [==============================] - 5s 54us/step - loss: nan - accuracy: 0.9071\n",
      "Epoch 2/10\n",
      "84376/84376 [==============================] - 4s 47us/step - loss: nan - accuracy: 0.9080\n",
      "Epoch 3/10\n",
      "84376/84376 [==============================] - 4s 47us/step - loss: nan - accuracy: 0.9080\n",
      "Epoch 4/10\n",
      "84376/84376 [==============================] - 4s 47us/step - loss: nan - accuracy: 0.9080\n",
      "Epoch 5/10\n",
      "84376/84376 [==============================] - 4s 46us/step - loss: nan - accuracy: 0.9080\n",
      "Epoch 6/10\n",
      "84376/84376 [==============================] - 4s 47us/step - loss: nan - accuracy: 0.9080\n",
      "Epoch 7/10\n",
      "84376/84376 [==============================] - 4s 47us/step - loss: nan - accuracy: 0.9080\n",
      "Epoch 8/10\n",
      "84376/84376 [==============================] - 4s 47us/step - loss: nan - accuracy: 0.9080\n",
      "Epoch 9/10\n",
      "84376/84376 [==============================] - 4s 47us/step - loss: nan - accuracy: 0.9080\n",
      "Epoch 10/10\n",
      "84376/84376 [==============================] - 4s 47us/step - loss: nan - accuracy: 0.9080\n",
      "21094/21094 [==============================] - 1s 37us/step\n",
      "Epoch 1/10\n",
      "84376/84376 [==============================] - 5s 55us/step - loss: nan - accuracy: 0.9065\n",
      "Epoch 2/10\n",
      "84376/84376 [==============================] - 4s 46us/step - loss: nan - accuracy: 0.9074\n",
      "Epoch 3/10\n",
      "84376/84376 [==============================] - 4s 46us/step - loss: nan - accuracy: 0.9074\n",
      "Epoch 4/10\n",
      "84376/84376 [==============================] - 4s 47us/step - loss: nan - accuracy: 0.9074\n",
      "Epoch 5/10\n",
      "84376/84376 [==============================] - 4s 47us/step - loss: nan - accuracy: 0.9074\n",
      "Epoch 6/10\n",
      "84376/84376 [==============================] - 4s 46us/step - loss: nan - accuracy: 0.9074\n",
      "Epoch 7/10\n",
      "84376/84376 [==============================] - 4s 47us/step - loss: nan - accuracy: 0.9074\n",
      "Epoch 8/10\n",
      "84376/84376 [==============================] - 4s 47us/step - loss: nan - accuracy: 0.9074\n",
      "Epoch 9/10\n",
      "84376/84376 [==============================] - 4s 48us/step - loss: nan - accuracy: 0.9074\n",
      "Epoch 10/10\n",
      "84376/84376 [==============================] - 4s 48us/step - loss: nan - accuracy: 0.9074\n",
      "21094/21094 [==============================] - 1s 35us/step\n",
      "Epoch 1/10\n",
      "84376/84376 [==============================] - 5s 56us/step - loss: nan - accuracy: 0.9059\n",
      "Epoch 2/10\n",
      "84376/84376 [==============================] - 4s 48us/step - loss: nan - accuracy: 0.9068\n",
      "Epoch 3/10\n",
      "84376/84376 [==============================] - 4s 46us/step - loss: nan - accuracy: 0.9068\n",
      "Epoch 4/10\n",
      "84376/84376 [==============================] - 4s 46us/step - loss: nan - accuracy: 0.9068\n",
      "Epoch 5/10\n",
      "84376/84376 [==============================] - 4s 48us/step - loss: nan - accuracy: 0.9068\n",
      "Epoch 6/10\n",
      "84376/84376 [==============================] - 4s 46us/step - loss: nan - accuracy: 0.9068\n",
      "Epoch 7/10\n",
      "84376/84376 [==============================] - 4s 47us/step - loss: nan - accuracy: 0.9068\n",
      "Epoch 8/10\n",
      "84376/84376 [==============================] - 4s 47us/step - loss: nan - accuracy: 0.9068\n",
      "Epoch 9/10\n",
      "84376/84376 [==============================] - 4s 47us/step - loss: nan - accuracy: 0.9068\n",
      "Epoch 10/10\n",
      "84376/84376 [==============================] - 4s 47us/step - loss: nan - accuracy: 0.9068\n",
      "21094/21094 [==============================] - 1s 34us/step\n"
     ]
    }
   ],
   "source": [
    "results = cross_val_score(estimator, X, dummy_y, cv=kfold)"
   ]
  },
  {
   "cell_type": "markdown",
   "metadata": {},
   "source": [
    "Finalmente podemos obter a média da acuracidade das 5 execusões, e o desvio padrão entre as 5."
   ]
  },
  {
   "cell_type": "code",
   "execution_count": 27,
   "metadata": {},
   "outputs": [
    {
     "name": "stdout",
     "output_type": "stream",
     "text": [
      "----------------------------------------------------------------------------------------------------\n",
      "Baseline: 90.72% (0.16%)\n"
     ]
    }
   ],
   "source": [
    "print('-'*100)\n",
    "print(\"Baseline: %.2f%% (%.2f%%)\" % (results.mean()*100, results.std()*100))"
   ]
  },
  {
   "cell_type": "markdown",
   "metadata": {},
   "source": [
    "Um modelo simples nos permitiu ter a acuracidade de 90.72%. \n",
    "Irei utilizar este valor como base de comparação em outras abordagens."
   ]
  },
  {
   "cell_type": "markdown",
   "metadata": {},
   "source": [
    "* utilizei como guia o notebook https://www.kaggle.com/pierrek20/multiclass-iris-prediction-with-tensorflow-keras"
   ]
  },
  {
   "cell_type": "code",
   "execution_count": null,
   "metadata": {},
   "outputs": [],
   "source": []
  }
 ],
 "metadata": {
  "kernelspec": {
   "display_name": "Python 3",
   "language": "python",
   "name": "python3"
  },
  "language_info": {
   "codemirror_mode": {
    "name": "ipython",
    "version": 3
   },
   "file_extension": ".py",
   "mimetype": "text/x-python",
   "name": "python",
   "nbconvert_exporter": "python",
   "pygments_lexer": "ipython3",
   "version": "3.6.11"
  }
 },
 "nbformat": 4,
 "nbformat_minor": 4
}
