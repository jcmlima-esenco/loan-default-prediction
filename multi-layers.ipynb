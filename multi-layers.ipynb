{
 "cells": [
  {
   "cell_type": "markdown",
   "metadata": {},
   "source": [
    "## Multi layers\n",
    "\n",
    "A partir do notebook baseline, utilizando-se a mesma sequencia, porém com um modelo multilayer, com mais nós, mais épocas e maior bath_size\n",
    "\n",
    "A tentativa aqui é força bruta."
   ]
  },
  {
   "cell_type": "code",
   "execution_count": 1,
   "metadata": {},
   "outputs": [
    {
     "name": "stderr",
     "output_type": "stream",
     "text": [
      "Using TensorFlow backend.\n"
     ]
    }
   ],
   "source": [
    "import pandas\n",
    "from keras.models import Sequential\n",
    "from keras.layers import Dense\n",
    "from keras.wrappers.scikit_learn import KerasClassifier\n",
    "from keras.utils import np_utils\n",
    "from sklearn.model_selection import cross_val_score\n",
    "from sklearn.model_selection import KFold\n",
    "from sklearn.preprocessing import LabelEncoder\n",
    "from sklearn.pipeline import Pipeline"
   ]
  },
  {
   "cell_type": "markdown",
   "metadata": {},
   "source": [
    "### Leitura e conversão dos dados"
   ]
  },
  {
   "cell_type": "code",
   "execution_count": 3,
   "metadata": {},
   "outputs": [
    {
     "name": "stderr",
     "output_type": "stream",
     "text": [
      "/Users/jcmlima/opt/anaconda3/envs/bernardo/lib/python3.6/site-packages/IPython/core/interactiveshell.py:3072: DtypeWarning: Columns (135,204,274,417) have mixed types.Specify dtype option on import or set low_memory=False.\n",
      "  interactivity=interactivity, compiler=compiler, result=result)\n"
     ]
    }
   ],
   "source": [
    "# load dataset\n",
    "dataframe = pandas.read_csv(\"data/train_v2.csv\", header=1)\n",
    "dataframe = dataframe.apply(pandas.to_numeric, errors='coerce')\n",
    "dataset = dataframe.values\n",
    "X = dataset[:,1:770].astype(float)\n",
    "Y = dataset[:,770]"
   ]
  },
  {
   "cell_type": "code",
   "execution_count": 4,
   "metadata": {},
   "outputs": [
    {
     "data": {
      "text/plain": [
       "(105470, 89)"
      ]
     },
     "execution_count": 4,
     "metadata": {},
     "output_type": "execute_result"
    }
   ],
   "source": [
    "# encode class values as integers\n",
    "encoder = LabelEncoder()\n",
    "encoder.fit(Y)\n",
    "encoded_Y = encoder.transform(Y)\n",
    "# convert integers to dummy variables (i.e. one hot encoded)\n",
    "dummy_y = np_utils.to_categorical(encoded_Y)\n",
    "\n",
    "dummy_y.shape"
   ]
  },
  {
   "cell_type": "code",
   "execution_count": 10,
   "metadata": {},
   "outputs": [],
   "source": [
    "# define baseline model\n",
    "def baseline_model():\n",
    "\tmodel = Sequential()\n",
    "\tmodel.add(Dense(300, input_dim=769, activation='relu'))\n",
    "\tmodel.add(Dense(300, input_dim=769, activation='relu'))\n",
    "\tmodel.add(Dense(300, input_dim=769, activation='relu'))\n",
    "\tmodel.add(Dense(300, input_dim=769, activation='relu'))\n",
    "\tmodel.add(Dense(89, activation='softmax'))\n",
    "\tmodel.compile(loss='categorical_crossentropy', optimizer='adam', metrics=['accuracy'])\n",
    "\treturn model"
   ]
  },
  {
   "cell_type": "code",
   "execution_count": 11,
   "metadata": {},
   "outputs": [],
   "source": [
    "estimator = KerasClassifier(build_fn=baseline_model, epochs=15, batch_size=1000, verbose=1)\n",
    "kfold = KFold(n_splits=5, shuffle=True)"
   ]
  },
  {
   "cell_type": "code",
   "execution_count": 12,
   "metadata": {},
   "outputs": [
    {
     "name": "stdout",
     "output_type": "stream",
     "text": [
      "Epoch 1/15\n",
      "84376/84376 [==============================] - 9s 103us/step - loss: nan - accuracy: 0.9056\n",
      "Epoch 2/15\n",
      "84376/84376 [==============================] - 7s 87us/step - loss: nan - accuracy: 0.9074\n",
      "Epoch 3/15\n",
      "84376/84376 [==============================] - 7s 88us/step - loss: nan - accuracy: 0.9074\n",
      "Epoch 4/15\n",
      "84376/84376 [==============================] - 7s 87us/step - loss: nan - accuracy: 0.9074\n",
      "Epoch 5/15\n",
      "84376/84376 [==============================] - 7s 88us/step - loss: nan - accuracy: 0.9074\n",
      "Epoch 6/15\n",
      "84376/84376 [==============================] - 7s 86us/step - loss: nan - accuracy: 0.9074\n",
      "Epoch 7/15\n",
      "84376/84376 [==============================] - 7s 88us/step - loss: nan - accuracy: 0.9074\n",
      "Epoch 8/15\n",
      "84376/84376 [==============================] - 7s 87us/step - loss: nan - accuracy: 0.9074\n",
      "Epoch 9/15\n",
      "84376/84376 [==============================] - 7s 87us/step - loss: nan - accuracy: 0.9074\n",
      "Epoch 10/15\n",
      "84376/84376 [==============================] - 7s 88us/step - loss: nan - accuracy: 0.9074\n",
      "Epoch 11/15\n",
      "84376/84376 [==============================] - 7s 87us/step - loss: nan - accuracy: 0.9074\n",
      "Epoch 12/15\n",
      "84376/84376 [==============================] - 7s 88us/step - loss: nan - accuracy: 0.9074\n",
      "Epoch 13/15\n",
      "84376/84376 [==============================] - 7s 88us/step - loss: nan - accuracy: 0.9074\n",
      "Epoch 14/15\n",
      "84376/84376 [==============================] - 8s 91us/step - loss: nan - accuracy: 0.9074\n",
      "Epoch 15/15\n",
      "84376/84376 [==============================] - 8s 90us/step - loss: nan - accuracy: 0.9074\n",
      "21094/21094 [==============================] - 1s 57us/step\n",
      "Epoch 1/15\n",
      "84376/84376 [==============================] - 9s 104us/step - loss: nan - accuracy: 0.9051\n",
      "Epoch 2/15\n",
      "84376/84376 [==============================] - 7s 87us/step - loss: nan - accuracy: 0.9071\n",
      "Epoch 3/15\n",
      "84376/84376 [==============================] - 7s 86us/step - loss: nan - accuracy: 0.9071\n",
      "Epoch 4/15\n",
      "84376/84376 [==============================] - 7s 88us/step - loss: nan - accuracy: 0.9071\n",
      "Epoch 5/15\n",
      "84376/84376 [==============================] - 7s 85us/step - loss: nan - accuracy: 0.9071\n",
      "Epoch 6/15\n",
      "84376/84376 [==============================] - 7s 85us/step - loss: nan - accuracy: 0.9071\n",
      "Epoch 7/15\n",
      "84376/84376 [==============================] - 7s 86us/step - loss: nan - accuracy: 0.9071\n",
      "Epoch 8/15\n",
      "84376/84376 [==============================] - 7s 86us/step - loss: nan - accuracy: 0.9071\n",
      "Epoch 9/15\n",
      "84376/84376 [==============================] - 7s 88us/step - loss: nan - accuracy: 0.9071\n",
      "Epoch 10/15\n",
      "84376/84376 [==============================] - 7s 87us/step - loss: nan - accuracy: 0.9071\n",
      "Epoch 11/15\n",
      "84376/84376 [==============================] - 7s 86us/step - loss: nan - accuracy: 0.9071\n",
      "Epoch 12/15\n",
      "84376/84376 [==============================] - 7s 89us/step - loss: nan - accuracy: 0.9071\n",
      "Epoch 13/15\n",
      "84376/84376 [==============================] - 8s 90us/step - loss: nan - accuracy: 0.9071\n",
      "Epoch 14/15\n",
      "84376/84376 [==============================] - 8s 90us/step - loss: nan - accuracy: 0.9071\n",
      "Epoch 15/15\n",
      "84376/84376 [==============================] - 7s 86us/step - loss: nan - accuracy: 0.9071\n",
      "21094/21094 [==============================] - 1s 57us/step\n",
      "Epoch 1/15\n",
      "84376/84376 [==============================] - 9s 107us/step - loss: nan - accuracy: 0.9053\n",
      "Epoch 2/15\n",
      "84376/84376 [==============================] - 7s 89us/step - loss: nan - accuracy: 0.9071\n",
      "Epoch 3/15\n",
      "84376/84376 [==============================] - 8s 89us/step - loss: nan - accuracy: 0.9071\n",
      "Epoch 4/15\n",
      "84376/84376 [==============================] - 7s 86us/step - loss: nan - accuracy: 0.9071\n",
      "Epoch 5/15\n",
      "84376/84376 [==============================] - 7s 87us/step - loss: nan - accuracy: 0.9071\n",
      "Epoch 6/15\n",
      "84376/84376 [==============================] - 7s 86us/step - loss: nan - accuracy: 0.9071\n",
      "Epoch 7/15\n",
      "84376/84376 [==============================] - 7s 86us/step - loss: nan - accuracy: 0.9071\n",
      "Epoch 8/15\n",
      "84376/84376 [==============================] - 7s 85us/step - loss: nan - accuracy: 0.9071\n",
      "Epoch 9/15\n",
      "84376/84376 [==============================] - 7s 88us/step - loss: nan - accuracy: 0.9071\n",
      "Epoch 10/15\n",
      "84376/84376 [==============================] - 7s 87us/step - loss: nan - accuracy: 0.9071\n",
      "Epoch 11/15\n",
      "84376/84376 [==============================] - 7s 87us/step - loss: nan - accuracy: 0.9071\n",
      "Epoch 12/15\n",
      "84376/84376 [==============================] - 7s 88us/step - loss: nan - accuracy: 0.9071\n",
      "Epoch 13/15\n",
      "84376/84376 [==============================] - 8s 89us/step - loss: nan - accuracy: 0.9071\n",
      "Epoch 14/15\n",
      "84376/84376 [==============================] - 7s 88us/step - loss: nan - accuracy: 0.9071\n",
      "Epoch 15/15\n",
      "84376/84376 [==============================] - 7s 87us/step - loss: nan - accuracy: 0.9071\n",
      "21094/21094 [==============================] - 1s 57us/step\n",
      "Epoch 1/15\n",
      "84376/84376 [==============================] - 9s 102us/step - loss: nan - accuracy: 0.9058\n",
      "Epoch 2/15\n",
      "84376/84376 [==============================] - 7s 87us/step - loss: nan - accuracy: 0.9078\n",
      "Epoch 3/15\n",
      "84376/84376 [==============================] - 7s 86us/step - loss: nan - accuracy: 0.9078\n",
      "Epoch 4/15\n",
      "84376/84376 [==============================] - 8s 89us/step - loss: nan - accuracy: 0.9078\n",
      "Epoch 5/15\n",
      "84376/84376 [==============================] - 8s 90us/step - loss: nan - accuracy: 0.9078\n",
      "Epoch 6/15\n",
      "84376/84376 [==============================] - 7s 88us/step - loss: nan - accuracy: 0.9078\n",
      "Epoch 7/15\n",
      "84376/84376 [==============================] - 7s 87us/step - loss: nan - accuracy: 0.9078\n",
      "Epoch 8/15\n",
      "84376/84376 [==============================] - 8s 89us/step - loss: nan - accuracy: 0.9078\n",
      "Epoch 9/15\n",
      "84376/84376 [==============================] - 7s 88us/step - loss: nan - accuracy: 0.9078\n",
      "Epoch 10/15\n",
      "84376/84376 [==============================] - 7s 87us/step - loss: nan - accuracy: 0.9078\n",
      "Epoch 11/15\n",
      "84376/84376 [==============================] - 7s 88us/step - loss: nan - accuracy: 0.9078\n",
      "Epoch 12/15\n",
      "84376/84376 [==============================] - 7s 86us/step - loss: nan - accuracy: 0.9078\n",
      "Epoch 13/15\n",
      "84376/84376 [==============================] - 7s 87us/step - loss: nan - accuracy: 0.9078\n",
      "Epoch 14/15\n",
      "84376/84376 [==============================] - 8s 90us/step - loss: nan - accuracy: 0.9078\n",
      "Epoch 15/15\n",
      "84376/84376 [==============================] - 7s 87us/step - loss: nan - accuracy: 0.9078\n",
      "21094/21094 [==============================] - 1s 56us/step\n",
      "Epoch 1/15\n",
      "84376/84376 [==============================] - 8s 100us/step - loss: nan - accuracy: 0.9047\n",
      "Epoch 2/15\n",
      "84376/84376 [==============================] - 7s 87us/step - loss: nan - accuracy: 0.9068\n",
      "Epoch 3/15\n",
      "84376/84376 [==============================] - 8s 92us/step - loss: nan - accuracy: 0.9068\n",
      "Epoch 4/15\n",
      "84376/84376 [==============================] - 7s 88us/step - loss: nan - accuracy: 0.9068\n",
      "Epoch 5/15\n",
      "84376/84376 [==============================] - 8s 90us/step - loss: nan - accuracy: 0.9068\n",
      "Epoch 6/15\n",
      "84376/84376 [==============================] - 7s 88us/step - loss: nan - accuracy: 0.9068\n",
      "Epoch 7/15\n",
      "84376/84376 [==============================] - 8s 92us/step - loss: nan - accuracy: 0.9068\n",
      "Epoch 8/15\n",
      "84376/84376 [==============================] - 7s 87us/step - loss: nan - accuracy: 0.9068\n",
      "Epoch 9/15\n",
      "84376/84376 [==============================] - 7s 87us/step - loss: nan - accuracy: 0.9068\n",
      "Epoch 10/15\n",
      "84376/84376 [==============================] - 7s 89us/step - loss: nan - accuracy: 0.9068\n",
      "Epoch 11/15\n",
      "84376/84376 [==============================] - 7s 87us/step - loss: nan - accuracy: 0.9068\n",
      "Epoch 12/15\n",
      "84376/84376 [==============================] - 7s 86us/step - loss: nan - accuracy: 0.9068\n",
      "Epoch 13/15\n",
      "84376/84376 [==============================] - 8s 90us/step - loss: nan - accuracy: 0.9068\n",
      "Epoch 14/15\n",
      "84376/84376 [==============================] - 8s 95us/step - loss: nan - accuracy: 0.9068\n",
      "Epoch 15/15\n",
      "84376/84376 [==============================] - 8s 89us/step - loss: nan - accuracy: 0.9068\n",
      "21094/21094 [==============================] - 1s 59us/step\n"
     ]
    }
   ],
   "source": [
    "results = cross_val_score(estimator, X, dummy_y, cv=kfold)"
   ]
  },
  {
   "cell_type": "markdown",
   "metadata": {},
   "source": [
    "Finalmente podemos obter a média da acuracidade das 5 execusões, e o desvio padrão entre as 5."
   ]
  },
  {
   "cell_type": "code",
   "execution_count": 13,
   "metadata": {},
   "outputs": [
    {
     "name": "stdout",
     "output_type": "stream",
     "text": [
      "----------------------------------------------------------------------------------------------------\n",
      "Baseline: 90.72% (0.14%)\n"
     ]
    }
   ],
   "source": [
    "print('-'*100)\n",
    "print(\"Baseline: %.2f%% (%.2f%%)\" % (results.mean()*100, results.std()*100))"
   ]
  },
  {
   "cell_type": "markdown",
   "metadata": {},
   "source": [
    "Este modelo mais complexo nos permitiu ter a acuracidade de 90.72. Ou seja, a mesma acuracidade do baseline"
   ]
  }
 ],
 "metadata": {
  "kernelspec": {
   "display_name": "Python 3",
   "language": "python",
   "name": "python3"
  },
  "language_info": {
   "codemirror_mode": {
    "name": "ipython",
    "version": 3
   },
   "file_extension": ".py",
   "mimetype": "text/x-python",
   "name": "python",
   "nbconvert_exporter": "python",
   "pygments_lexer": "ipython3",
   "version": "3.6.11"
  }
 },
 "nbformat": 4,
 "nbformat_minor": 4
}
